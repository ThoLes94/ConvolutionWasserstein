{
 "cells": [
  {
   "cell_type": "code",
   "execution_count": 1,
   "metadata": {},
   "outputs": [],
   "source": [
    "import numpy as np # always need it\n",
    "import scipy as sp # often use it\n",
    "import pylab as pl # do the plots\n",
    "import seaborn as sns # for pretty plots\n",
    "import matplotlib.pyplot as plt # for pretty plots\n",
    "\n",
    "import ot # ot "
   ]
  },
  {
   "cell_type": "code",
   "execution_count": 2,
   "metadata": {},
   "outputs": [],
   "source": [
    "def Convolution_Wasserstein(a, b, C, l):\n",
    "    u = np.ones(len(a))\n",
    "    K = np.exp(-C/l)\n",
    "    for i in range(len(a)):\n",
    "        v = b / (K.T @ u)\n",
    "        u = a / (K @ v)\n",
    "    T = np.diag(u) @ K @ np.diag(v)\n",
    "    return T\n",
    "\n",
    "\n"
   ]
  },
  {
   "cell_type": "code",
   "execution_count": 3,
   "metadata": {},
   "outputs": [],
   "source": [
    "def Wasserstein_barycentre(mu_i, alpha, H, a):\n",
    "    k = len(mu_i)\n",
    "    d = np.zeros(k)\n",
    "    v = np.ones((k,k))\n",
    "    w = np.ones((k,k))\n",
    "    for j in range(N):\n",
    "        mu = np.ones(k)\n",
    "        for i in range(k):\n",
    "            w[i] = mu_i[i]/H@(a*v[i])\n",
    "            d[i] = v[i]*H@(a*w[i])\n",
    "            mu = mu*d[i]**alpha[i]\n",
    "\n",
    "    for i in range(k):\n",
    "        v[i] = v[i]*mu/d[i]\n",
    "\n",
    "    return mu\n",
    "\n",
    "\n"
   ]
  },
  {
   "cell_type": "code",
   "execution_count": null,
   "metadata": {},
   "outputs": [],
   "source": []
  }
 ],
 "metadata": {
  "interpreter": {
   "hash": "4e45a42a02399ef7d405ae537aa782b13f90516b24d23472bed56c0be54a5ad5"
  },
  "kernelspec": {
   "display_name": "Python 3.8.12 64-bit ('base': conda)",
   "language": "python",
   "name": "python3"
  },
  "language_info": {
   "codemirror_mode": {
    "name": "ipython",
    "version": 3
   },
   "file_extension": ".py",
   "mimetype": "text/x-python",
   "name": "python",
   "nbconvert_exporter": "python",
   "pygments_lexer": "ipython3",
   "version": "3.7.6"
  },
  "orig_nbformat": 4
 },
 "nbformat": 4,
 "nbformat_minor": 2
}
