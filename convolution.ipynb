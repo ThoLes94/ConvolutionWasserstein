{
 "cells": [
  {
   "cell_type": "code",
   "execution_count": 1,
   "metadata": {},
   "outputs": [],
   "source": [
    "import numpy as np # always need it\n",
    "import scipy as sp # often use it\n",
    "import pylab as pl # do the plots\n",
    "import seaborn as sns # for pretty plots\n",
    "import matplotlib.pyplot as plt # for pretty plots\n",
    "\n",
    "import ot # ot "
   ]
  },
  {
   "cell_type": "code",
   "execution_count": 2,
   "metadata": {},
   "outputs": [],
   "source": [
    "def Convolution_Wasserstein(a, b, C, l):\n",
    "    u = np.ones(len(a))\n",
    "    K = np.exp(-C/l)\n",
    "    for i in range(len(a)):\n",
    "        v = b / (K.T @ u)\n",
    "        u = a / (K @ v)\n",
    "    T = np.diag(u) @ K @ np.diag(v)\n",
    "    return T\n",
    "\n",
    "\n"
   ]
  }
 ],
 "metadata": {
  "interpreter": {
   "hash": "4e45a42a02399ef7d405ae537aa782b13f90516b24d23472bed56c0be54a5ad5"
  },
  "kernelspec": {
   "display_name": "Python 3.8.12 64-bit ('base': conda)",
   "language": "python",
   "name": "python3"
  },
  "language_info": {
   "codemirror_mode": {
    "name": "ipython",
    "version": 3
   },
   "file_extension": ".py",
   "mimetype": "text/x-python",
   "name": "python",
   "nbconvert_exporter": "python",
   "pygments_lexer": "ipython3",
   "version": "3.8.12"
  },
  "orig_nbformat": 4
 },
 "nbformat": 4,
 "nbformat_minor": 2
}
