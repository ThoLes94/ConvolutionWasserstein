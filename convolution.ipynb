{
 "cells": [
  {
   "cell_type": "code",
   "execution_count": 1,
   "metadata": {},
   "outputs": [],
   "source": [
    "import numpy as np # always need it\n",
    "import scipy as sp # often use it\n",
    "import pylab as pl # do the plots\n",
    "import seaborn as sns # for pretty plots\n",
    "import matplotlib.pyplot as plt # for pretty plots\n",
    "\n",
    "import ot # ot "
   ]
  },
  {
   "cell_type": "code",
   "execution_count": 2,
   "metadata": {},
   "outputs": [],
   "source": [
    "def Convolution_Wasserstein(a, b, C, l):\n",
    "    u = np.ones(len(a))\n",
    "    K = np.exp(-C/l)\n",
    "    for i in range(len(a)):\n",
    "        v = b / (K.T @ u)\n",
    "        u = a / (K @ v)\n",
    "    T = np.diag(u) @ K @ np.diag(v)\n",
    "    return T"
   ]
  },
  {
   "cell_type": "code",
   "execution_count": 6,
   "metadata": {},
   "outputs": [],
   "source": [
    "def Wasserstein_barycentre(mu_i, alpha, Ht, a, ent_sharp = True, N = 200):\n",
    "    k = len(mu_i)\n",
    "    d = np.zeros(k)\n",
    "    v = np.ones((k,k))\n",
    "    w = np.ones((k,k))\n",
    "    for j in range(N):\n",
    "        mu = np.ones(k)\n",
    "        for i in range(k):\n",
    "            w[i] = mu_i[i]/Ht@(a*v[i])\n",
    "            d[i] = v[i]*Ht@(a*w[i])\n",
    "            mu = mu*d[i]**alpha[i]\n",
    "\n",
    "        #entropic sharpening, optional\n",
    "        if (ent_sharp):\n",
    "            H_0 = H0(mu_i, a)\n",
    "            mu = entropic_sharpening(mu, H_0, a)\n",
    "\n",
    "        for i in range(k):\n",
    "            v[i] = v[i]*mu/d[i]\n",
    "\n",
    "    return mu\n",
    "\n",
    "\n"
   ]
  },
  {
   "cell_type": "code",
   "execution_count": 2,
   "metadata": {},
   "outputs": [],
   "source": [
    "def entropic_sharpening(mu, H0, a):\n",
    "    beta = 1\n",
    "    if(H(mu, a) + np.transpose(a)*mu > H0 + 1 ):\n",
    "        beta = sp.optimize.root(np.transpose(a)*mu**beta + H(mu**beta, a) - (1 + H0), beta > 0)\n",
    "    return mu**beta"
   ]
  },
  {
   "cell_type": "code",
   "execution_count": 3,
   "metadata": {},
   "outputs": [],
   "source": [
    "def H(mu, a):\n",
    "    sum = 0\n",
    "    for i in range(len(mu)):\n",
    "        sum -= a[i] * mu[i] * np.log(mu[i])\n",
    "    return sum"
   ]
  },
  {
   "cell_type": "code",
   "execution_count": 4,
   "metadata": {},
   "outputs": [],
   "source": [
    "def H0(mu_i,a):\n",
    "    for i in range(len(mu_i)):\n",
    "        h = H(mu_i[i],a)\n",
    "        if(h > H0):\n",
    "            H0 = h \n",
    "    return h"
   ]
  },
  {
   "cell_type": "code",
   "execution_count": 8,
   "metadata": {},
   "outputs": [],
   "source": [
    "def Wasserstein_propagation(V, E, V0, mu_V0, Ht, a, alpha, N = 200):\n",
    "    m = len(V)\n",
    "    k = len(E)\n",
    "    m0,k0 = np.shape(mu_V0)\n",
    "    v = np.ones((k,k0))\n",
    "    w = np.ones((k,k0))\n",
    "    mu = np.ones((m,k0))\n",
    "    d = np.zeros((k,k0))\n",
    "    for j in range(N):\n",
    "        for i in range(m):\n",
    "            if (V[i] in V0):\n",
    "                mu[i] = V0(V0.index(V[i]))\n",
    "                for l in range(k): #on parcourt les aretes\n",
    "                    e = E[l]\n",
    "                    if e[1] == V[i] :\n",
    "                        w[l] = mu / Ht @ (a * v[l])\n",
    "                    if e[0] == V[i] :\n",
    "                        v[l] = mu / Ht @ (a * w[l])\n",
    "            else:\n",
    "                omega = 0\n",
    "                for l in range(k):\n",
    "                    e = E[l]\n",
    "                    if(e[1]==V[i] or e[0]==V[i]):\n",
    "                        omega += alpha[l]\n",
    "                for l in range(k): #on parcourt les aretes\n",
    "                    e = E[l]\n",
    "                    if e[1] == V[i] :\n",
    "                        d[l] = w[l] * Ht @ (a * v[l])\n",
    "                    if e[0] == V[i] :\n",
    "                        d[l] = v[l] * Ht @ (a * w[l])\n",
    "                    mu[i] = mu[i] * d[l]**(alpha[l]/omega)\n",
    "                for l in range(k): #on parcourt les aretes\n",
    "                    e = E[l]\n",
    "                    if e[1] == V[i] :\n",
    "                        w[l] = w[l] * mu[i]/d[l]\n",
    "                    if e[0] == V[i] :\n",
    "                        v[l] = v[l] * mu[i]/d[l]\n",
    "            \n",
    "\n",
    "    return mu"
   ]
  },
  {
   "cell_type": "code",
   "execution_count": null,
   "metadata": {},
   "outputs": [],
   "source": []
  }
 ],
 "metadata": {
  "interpreter": {
   "hash": "4e45a42a02399ef7d405ae537aa782b13f90516b24d23472bed56c0be54a5ad5"
  },
  "kernelspec": {
   "display_name": "Python 3.8.12 64-bit ('base': conda)",
   "language": "python",
   "name": "python3"
  },
  "language_info": {
   "codemirror_mode": {
    "name": "ipython",
    "version": 3
   },
   "file_extension": ".py",
   "mimetype": "text/x-python",
   "name": "python",
   "nbconvert_exporter": "python",
   "pygments_lexer": "ipython3",
   "version": "3.7.6"
  },
  "orig_nbformat": 4
 },
 "nbformat": 4,
 "nbformat_minor": 2
}
