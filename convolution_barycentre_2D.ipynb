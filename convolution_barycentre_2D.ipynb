{
 "cells": [
  {
   "cell_type": "code",
   "execution_count": 1,
   "metadata": {},
   "outputs": [],
   "source": [
    "import numpy as np # always need it\n",
    "import scipy as sp # often use it\n",
    "import pylab as pl # do the plots\n",
    "import matplotlib.pyplot as plt # for pretty plots\n",
    "from mpl_toolkits.mplot3d import Axes3D\n",
    "from tqdm.notebook import tqdm as tqdm"
   ]
  },
  {
   "cell_type": "code",
   "execution_count": null,
   "metadata": {},
   "outputs": [],
   "source": [
    "def Convolution_Wasserstein(a, b, C, l):\n",
    "    u = np.ones(len(a))\n",
    "    K = np.exp(-C/l)\n",
    "    for i in range(len(a)):\n",
    "        v = b / (K.T @ u)\n",
    "        u = a / (K @ v)\n",
    "    T = np.diag(u) @ K @ np.diag(v)\n",
    "    return T"
   ]
  },
  {
   "cell_type": "code",
   "execution_count": 25,
   "metadata": {},
   "outputs": [],
   "source": [
    "def Wasserstein_barycentre(mu_i, alpha, Ht, a, ent_sharp = False, N = 1):\n",
    "    n1,n2 = mu_i[0].shape\n",
    "    k = len(mu_i)\n",
    "    d = np.zeros((k, n1, n2))\n",
    "    v = np.ones((k,n1,n2))\n",
    "    w = np.ones((k,n1,n2))\n",
    "    mu = np.ones((n1,n2))\n",
    "    for j in range(N):\n",
    "        mu = np.ones((n1,n2))\n",
    "        for i in range(k):\n",
    "            w[i] = mu_i[i]/(Ht @ (a*v[i]))\n",
    "            d[i] = v[i]*(Ht@(a*w[i]))\n",
    "            mu = mu*(d[i]**alpha[i])\n",
    "\n",
    "        #entropic sharpening, optional\n",
    "        if (ent_sharp):\n",
    "            H_0 = H0(mu_i, a)\n",
    "            mu = entropic_sharpening(mu, H_0, a)\n",
    "\n",
    "        for i in range(k):\n",
    "            v[i] = v[i]*mu/d[i]\n",
    "\n",
    "    return mu"
   ]
  },
  {
   "cell_type": "code",
   "execution_count": 3,
   "metadata": {},
   "outputs": [],
   "source": [
    "def entropic_sharpening(mu, H0, a):\n",
    "    beta = 1\n",
    "    if(H(mu, a) + np.transpose(a)*mu > H0 + 1 ):\n",
    "        beta = sp.optimize.root(np.transpose(a)*mu**beta + H(mu**beta, a) - (1 + H0), beta > 0)\n",
    "    return mu**beta"
   ]
  },
  {
   "cell_type": "code",
   "execution_count": 4,
   "metadata": {},
   "outputs": [],
   "source": [
    "def H(mu, a):\n",
    "    sum = 0\n",
    "    for i in range(len(mu)):\n",
    "        sum -= a[i] * mu[i] * np.log(mu[i])\n",
    "    return sum"
   ]
  },
  {
   "cell_type": "code",
   "execution_count": 5,
   "metadata": {},
   "outputs": [],
   "source": [
    "def H0(mu_i,a):\n",
    "    for i in range(len(mu_i)):\n",
    "        h = H(mu_i[i],a)\n",
    "        if(h > H0):\n",
    "            H0 = h \n",
    "    return h"
   ]
  },
  {
   "cell_type": "code",
   "execution_count": 6,
   "metadata": {},
   "outputs": [],
   "source": [
    "def kernel(n1, n2, gamma, mesh1, mesh2): \n",
    "    a = np.zeros((n1, n2))\n",
    "    min = np.infty\n",
    "    for i1 in range(n1):\n",
    "        for i2 in range(n2):\n",
    "            a[i1,i2] = np.exp(-np.linalg.norm(i1 - i2)**2 / gamma)\n",
    "            # if a[i1,i2] == 0 : \n",
    "                # print(-np.linalg.norm([mesh1[i1].x - mesh2[i2].x, mesh1[i1].y - mesh2[i2].y, mesh1[i1].z - mesh2[i2].z])**2 / gamma)\n",
    "                # return a\n",
    "    return a"
   ]
  },
  {
   "cell_type": "code",
   "execution_count": 16,
   "metadata": {},
   "outputs": [
    {
     "name": "stdout",
     "output_type": "stream",
     "text": [
      "[[2.04123288e-12 2.04123288e-12 2.04123288e-12 ... 2.04123288e-12\n",
      "  2.04123288e-12 2.04123288e-12]\n",
      " [2.04123288e-12 2.04123288e-12 2.04123288e-12 ... 2.04123288e-12\n",
      "  2.04123288e-12 2.04123288e-12]\n",
      " [2.04123288e-12 2.04123288e-12 2.04123288e-12 ... 2.04123288e-12\n",
      "  2.04123288e-12 2.04123288e-12]\n",
      " ...\n",
      " [2.04123288e-12 2.04123288e-12 2.04123288e-04 ... 2.04123288e-04\n",
      "  2.04123288e-04 2.04123288e-12]\n",
      " [2.04123288e-12 2.04123288e-04 2.04123288e-04 ... 2.04123288e-04\n",
      "  2.04123288e-04 2.04123288e-12]\n",
      " [2.04123288e-12 2.04123288e-12 2.04123288e-12 ... 2.04123288e-12\n",
      "  2.04123288e-12 2.04123288e-12]]\n"
     ]
    }
   ],
   "source": [
    "\n",
    "n1 = 100\n",
    "n2 = 100\n",
    "\n",
    "A = np.ones((n1,n2))*(10**(-8))\n",
    "#A = np.zeros((10,10))\n",
    "for i in range(1,n1-1):\n",
    "    for j in range(1,n2-1):\n",
    "        A[i,j] = 1.0  \n",
    "#A = 1-A     \n",
    "#A = 1.0-np.mean(img.imread('cat.jpg'),axis=2);\n",
    "A /= np.sum(A);\n",
    "\n",
    "           \n",
    "B = np.ones((n1,n2))*(10**(-8))\n",
    "#B = np.zeros((10,10))\n",
    "for i in range(1,n1-1):\n",
    "    for j in range(1,n2-1):\n",
    "        if((i-n1/2)**2 + (j-n2/2)**2 <= 400):\n",
    "            B[i,j] = 1.0  \n",
    "#B = 1-B\n",
    "#B = 1.0-np.mean(img.imread('star.png'),axis=2);\n",
    "B /= np.sum(B);\n",
    "\n",
    "\n",
    "C = np.ones((n1,n2))*(10**(-8))\n",
    "for j in range(1, n2-1):\n",
    "    for i in range(1, n1-1):\n",
    "        if(i <= (n1+j)/2 and i>=(n1-j)/2):\n",
    "            C[j,i] = 1.0\n",
    "C /= np.sum(C)\n",
    "\n",
    "print(C)"
   ]
  },
  {
   "cell_type": "code",
   "execution_count": 8,
   "metadata": {},
   "outputs": [],
   "source": [
    "n1 = 100\n",
    "n2 = 100\n",
    "gamma = 0.1\n",
    "Ht = kernel(n1, n2, gamma, A, B)\n",
    "a = np.ones((n1,n2))*1/(n1*n2)"
   ]
  },
  {
   "cell_type": "code",
   "execution_count": 29,
   "metadata": {},
   "outputs": [
    {
     "data": {
      "image/png": "[encoded data removed]",
      "text/plain": [
       "<Figure size 432x288 with 1 Axes>"
      ]
     },
     "metadata": {
      "needs_background": "light"
     },
     "output_type": "display_data"
    }
   ],
   "source": [
    "mu = Wasserstein_barycentre((A, B, C), (0.8, 0, 0.2), Ht, a, N=3)\n",
    "plt.imshow(mu, cmap = 'Blues')\n",
    "plt.show()"
   ]
  },
  {
   "cell_type": "code",
   "execution_count": null,
   "metadata": {},
   "outputs": [],
   "source": []
  }
 ],
 "metadata": {
  "interpreter": {
   "hash": "2218f86517019655e7a24f6babdd826dd9313b53f1237bebc0bce8c89d1658f0"
  },
  "kernelspec": {
   "display_name": "Python 3.7.6 ('base')",
   "language": "python",
   "name": "python3"
  },
  "language_info": {
   "codemirror_mode": {
    "name": "ipython",
    "version": 3
   },
   "file_extension": ".py",
   "mimetype": "text/x-python",
   "name": "python",
   "nbconvert_exporter": "python",
   "pygments_lexer": "ipython3",
   "version": "3.7.6"
  },
  "orig_nbformat": 4
 },
 "nbformat": 4,
 "nbformat_minor": 2
}
